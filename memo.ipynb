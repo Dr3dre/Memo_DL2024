{
 "cells": [
  {
   "cell_type": "markdown",
   "metadata": {},
   "source": [
    "# MEMO Assignment\n",
    "Andrea De Carlo and Pooya Torabi"
   ]
  },
  {
   "metadata": {
    "ExecuteTime": {
     "end_time": "2024-07-15T18:55:37.534429Z",
     "start_time": "2024-07-15T18:55:37.518656Z"
    }
   },
   "cell_type": "code",
   "source": [
    "import torch\n",
    "import torchvision"
   ],
   "outputs": [],
   "execution_count": 25
  },
  {
   "metadata": {
    "ExecuteTime": {
     "end_time": "2024-07-15T18:55:38.388257Z",
     "start_time": "2024-07-15T18:55:38.356988Z"
    }
   },
   "cell_type": "code",
   "source": [
    "import matplotlib.pyplot as plt\n",
    "from torchvision.utils import draw_bounding_boxes, draw_segmentation_masks\n",
    "from torchvision.transforms.v2 import functional as F\n",
    "\n",
    "\n",
    "def plot(imgs, row_title=None, **imshow_kwargs):\n",
    "    if not isinstance(imgs[0], list):\n",
    "        # Make a 2d grid even if there's just 1 row\n",
    "        imgs = [imgs]\n",
    "\n",
    "    num_rows = len(imgs)\n",
    "    num_cols = len(imgs[0])\n",
    "    _, axs = plt.subplots(nrows=num_rows, ncols=num_cols, squeeze=False)\n",
    "    for row_idx, row in enumerate(imgs):\n",
    "        for col_idx, img in enumerate(row):\n",
    "            boxes = None\n",
    "            masks = None\n",
    "            if isinstance(img, tuple):\n",
    "                img, target = img\n",
    "                if isinstance(target, dict):\n",
    "                    boxes = target.get(\"boxes\")\n",
    "                    masks = target.get(\"masks\")\n",
    "                elif isinstance(target, torchvision.tv_tensors.BoundingBoxes):\n",
    "                    boxes = target\n",
    "                else:\n",
    "                    raise ValueError(f\"Unexpected target type: {type(target)}\")\n",
    "            img = F.to_image(img)\n",
    "            if img.dtype.is_floating_point and img.min() < 0:\n",
    "                # Poor man's re-normalization for the colors to be OK-ish. This\n",
    "                # is useful for images coming out of Normalize()\n",
    "                img -= img.min()\n",
    "                img /= img.max()\n",
    "\n",
    "            img = F.to_dtype(img, torch.uint8, scale=True)\n",
    "            if boxes is not None:\n",
    "                img = draw_bounding_boxes(img, boxes, colors=\"yellow\", width=3)\n",
    "            if masks is not None:\n",
    "                img = draw_segmentation_masks(img, masks.to(torch.bool), colors=[\"green\"] * masks.shape[0], alpha=.65)\n",
    "\n",
    "            ax = axs[row_idx, col_idx]\n",
    "            ax.imshow(img.permute(1, 2, 0).numpy(), **imshow_kwargs)\n",
    "            ax.set(xticklabels=[], yticklabels=[], xticks=[], yticks=[])\n",
    "\n",
    "    if row_title is not None:\n",
    "        for row_idx in range(num_rows):\n",
    "            axs[row_idx, 0].set(ylabel=row_title[row_idx])\n",
    "\n",
    "    plt.tight_layout()"
   ],
   "outputs": [],
   "execution_count": 26
  },
  {
   "metadata": {
    "ExecuteTime": {
     "end_time": "2024-07-15T18:55:38.712448Z",
     "start_time": "2024-07-15T18:55:38.665398Z"
    }
   },
   "cell_type": "code",
   "source": [
    "import boto3\n",
    "from PIL import ImageOps, Image\n",
    "from io import BytesIO\n",
    "from pathlib import Path\n",
    "from torch.utils.data import Dataset\n",
    "\n",
    "\n",
    "class S3ImageFolder(Dataset):\n",
    "    def __init__(self, root, transform=None):\n",
    "        self.s3_bucket = \"deeplearning2024-datasets\"\n",
    "        self.s3_region = \"eu-west-1\"\n",
    "        self.s3_client = boto3.client(\"s3\", region_name=self.s3_region, verify=True)\n",
    "        self.transform = transform\n",
    "\n",
    "        # Get list of objects in the bucket\n",
    "        response = self.s3_client.list_objects_v2(Bucket=self.s3_bucket, Prefix=root)\n",
    "        objects = response.get(\"Contents\", [])\n",
    "        while response.get(\"NextContinuationToken\"):\n",
    "            response = self.s3_client.list_objects_v2(\n",
    "                Bucket=self.s3_bucket,\n",
    "                Prefix=root,\n",
    "                ContinuationToken=response[\"NextContinuationToken\"]\n",
    "            )\n",
    "            objects.extend(response.get(\"Contents\", []))\n",
    "\n",
    "        # Iterate and keep valid files only\n",
    "        self.instances = []\n",
    "        for ds_idx, item in enumerate(objects):\n",
    "            key = item[\"Key\"]\n",
    "            path = Path(key)\n",
    "\n",
    "            # Check if file is valid\n",
    "            if path.suffix.lower() not in (\".jpg\", \".jpeg\", \".png\", \".ppm\", \".bmp\", \".pgm\", \".tif\", \".tiff\", \".webp\"):\n",
    "                continue\n",
    "\n",
    "            # Get label\n",
    "            label = path.parent.name\n",
    "\n",
    "            # Keep track of valid instances\n",
    "            self.instances.append((label, key))\n",
    "\n",
    "        # Sort classes in alphabetical order (as in ImageFolder)\n",
    "        self.classes = sorted(set(label for label, _ in self.instances))\n",
    "        self.class_to_idx = {cls_name: i for i, cls_name in enumerate(self.classes)}\n",
    "\n",
    "    def __len__(self):\n",
    "        return len(self.instances)\n",
    "\n",
    "    def __getitem__(self, idx):\n",
    "        try:\n",
    "            label, key = self.instances[idx]\n",
    "\n",
    "            # Download image from S3\n",
    "            # response = self.s3_client.get_object(Bucket=self.s3_bucket, Key=key)\n",
    "            # img_bytes = response[\"Body\"]._raw_stream.data\n",
    "\n",
    "            img_bytes = BytesIO()\n",
    "            response = self.s3_client.download_fileobj(Bucket=self.s3_bucket, Key=key, Fileobj=img_bytes)\n",
    "            # img_bytes = response[\"Body\"]._raw_stream.data\n",
    "\n",
    "            # Open image with PIL\n",
    "            img = Image.open(img_bytes).convert(\"RGB\")\n",
    "\n",
    "            # Apply transformations if any\n",
    "            if self.transform is not None:\n",
    "                img = self.transform(img)\n",
    "        except Exception as e:\n",
    "            raise RuntimeError(f\"Error loading image at index {idx}: {str(e)}\")\n",
    "\n",
    "        return img, self.class_to_idx[label]"
   ],
   "outputs": [],
   "execution_count": 27
  },
  {
   "metadata": {
    "ExecuteTime": {
     "end_time": "2024-07-15T18:55:39.028741Z",
     "start_time": "2024-07-15T18:55:38.999171Z"
    }
   },
   "cell_type": "code",
   "source": [
    "pre_process_mean = [0.485, 0.456, 0.406]\n",
    "pre_process_std = [0.229, 0.224, 0.225]\n",
    "normalize = torchvision.transforms.Normalize(mean=pre_process_mean, std=pre_process_std)\n",
    "resnet_preprocess = torchvision.transforms.Compose([\n",
    "    torchvision.transforms.Resize(256),\n",
    "    torchvision.transforms.CenterCrop(224),\n",
    "    torchvision.transforms.ToTensor(),\n",
    "    normalize\n",
    "])"
   ],
   "outputs": [],
   "execution_count": 28
  },
  {
   "cell_type": "code",
   "source": [
    "# Dataset: ImageNet-A\n",
    "# https://github.com/hendrycks/natural-adv-examples\n",
    "from dotenv import load_dotenv\n",
    "from os import getenv\n",
    "\n",
    "load_dotenv()\n",
    "local_env = getenv('local')\n",
    "\n",
    "# https://github.com/hendrycks/natural-adv-examples/blob/master/eval.py\n",
    "thousand_k_to_200 = {0: -1, 1: -1, 2: -1, 3: -1, 4: -1, 5: -1, 6: 0, 7: -1, 8: -1, 9: -1, 10: -1, 11: 1, 12: -1, 13: 2,\n",
    "                     14: -1, 15: 3, 16: -1, 17: 4, 18: -1, 19: -1, 20: -1, 21: -1, 22: 5, 23: 6, 24: -1, 25: -1, 26: -1,\n",
    "                     27: 7, 28: -1, 29: -1, 30: 8, 31: -1, 32: -1, 33: -1, 34: -1, 35: -1, 36: -1, 37: 9, 38: -1,\n",
    "                     39: 10, 40: -1, 41: -1, 42: 11, 43: -1, 44: -1, 45: -1, 46: -1, 47: 12, 48: -1, 49: -1, 50: 13,\n",
    "                     51: -1, 52: -1, 53: -1, 54: -1, 55: -1, 56: -1, 57: 14, 58: -1, 59: -1, 60: -1, 61: -1, 62: -1,\n",
    "                     63: -1, 64: -1, 65: -1, 66: -1, 67: -1, 68: -1, 69: -1, 70: 15, 71: 16, 72: -1, 73: -1, 74: -1,\n",
    "                     75: -1, 76: 17, 77: -1, 78: -1, 79: 18, 80: -1, 81: -1, 82: -1, 83: -1, 84: -1, 85: -1, 86: -1,\n",
    "                     87: -1, 88: -1, 89: 19, 90: 20, 91: -1, 92: -1, 93: -1, 94: 21, 95: -1, 96: 22, 97: 23, 98: -1,\n",
    "                     99: 24, 100: -1, 101: -1, 102: -1, 103: -1, 104: -1, 105: 25, 106: -1, 107: 26, 108: 27, 109: -1,\n",
    "                     110: 28, 111: -1, 112: -1, 113: 29, 114: -1, 115: -1, 116: -1, 117: -1, 118: -1, 119: -1, 120: -1,\n",
    "                     121: -1, 122: -1, 123: -1, 124: 30, 125: 31, 126: -1, 127: -1, 128: -1, 129: -1, 130: 32, 131: -1,\n",
    "                     132: 33, 133: -1, 134: -1, 135: -1, 136: -1, 137: -1, 138: -1, 139: -1, 140: -1, 141: -1, 142: -1,\n",
    "                     143: 34, 144: 35, 145: -1, 146: -1, 147: -1, 148: -1, 149: -1, 150: 36, 151: 37, 152: -1, 153: -1,\n",
    "                     154: -1, 155: -1, 156: -1, 157: -1, 158: -1, 159: -1, 160: -1, 161: -1, 162: -1, 163: -1, 164: -1,\n",
    "                     165: -1, 166: -1, 167: -1, 168: -1, 169: -1, 170: -1, 171: -1, 172: -1, 173: -1, 174: -1, 175: -1,\n",
    "                     176: -1, 177: -1, 178: -1, 179: -1, 180: -1, 181: -1, 182: -1, 183: -1, 184: -1, 185: -1, 186: -1,\n",
    "                     187: -1, 188: -1, 189: -1, 190: -1, 191: -1, 192: -1, 193: -1, 194: -1, 195: -1, 196: -1, 197: -1,\n",
    "                     198: -1, 199: -1, 200: -1, 201: -1, 202: -1, 203: -1, 204: -1, 205: -1, 206: -1, 207: 38, 208: -1,\n",
    "                     209: -1, 210: -1, 211: -1, 212: -1, 213: -1, 214: -1, 215: -1, 216: -1, 217: -1, 218: -1, 219: -1,\n",
    "                     220: -1, 221: -1, 222: -1, 223: -1, 224: -1, 225: -1, 226: -1, 227: -1, 228: -1, 229: -1, 230: -1,\n",
    "                     231: -1, 232: -1, 233: -1, 234: 39, 235: 40, 236: -1, 237: -1, 238: -1, 239: -1, 240: -1, 241: -1,\n",
    "                     242: -1, 243: -1, 244: -1, 245: -1, 246: -1, 247: -1, 248: -1, 249: -1, 250: -1, 251: -1, 252: -1,\n",
    "                     253: -1, 254: 41, 255: -1, 256: -1, 257: -1, 258: -1, 259: -1, 260: -1, 261: -1, 262: -1, 263: -1,\n",
    "                     264: -1, 265: -1, 266: -1, 267: -1, 268: -1, 269: -1, 270: -1, 271: -1, 272: -1, 273: -1, 274: -1,\n",
    "                     275: -1, 276: -1, 277: 42, 278: -1, 279: -1, 280: -1, 281: -1, 282: -1, 283: 43, 284: -1, 285: -1,\n",
    "                     286: -1, 287: 44, 288: -1, 289: -1, 290: -1, 291: 45, 292: -1, 293: -1, 294: -1, 295: 46, 296: -1,\n",
    "                     297: -1, 298: 47, 299: -1, 300: -1, 301: 48, 302: -1, 303: -1, 304: -1, 305: -1, 306: 49, 307: 50,\n",
    "                     308: 51, 309: 52, 310: 53, 311: 54, 312: -1, 313: 55, 314: 56, 315: 57, 316: -1, 317: 58, 318: -1,\n",
    "                     319: 59, 320: -1, 321: -1, 322: -1, 323: 60, 324: 61, 325: -1, 326: 62, 327: 63, 328: -1, 329: -1,\n",
    "                     330: 64, 331: -1, 332: -1, 333: -1, 334: 65, 335: 66, 336: 67, 337: -1, 338: -1, 339: -1, 340: -1,\n",
    "                     341: -1, 342: -1, 343: -1, 344: -1, 345: -1, 346: -1, 347: 68, 348: -1, 349: -1, 350: -1, 351: -1,\n",
    "                     352: -1, 353: -1, 354: -1, 355: -1, 356: -1, 357: -1, 358: -1, 359: -1, 360: -1, 361: 69, 362: -1,\n",
    "                     363: 70, 364: -1, 365: -1, 366: -1, 367: -1, 368: -1, 369: -1, 370: -1, 371: -1, 372: 71, 373: -1,\n",
    "                     374: -1, 375: -1, 376: -1, 377: -1, 378: 72, 379: -1, 380: -1, 381: -1, 382: -1, 383: -1, 384: -1,\n",
    "                     385: -1, 386: 73, 387: -1, 388: -1, 389: -1, 390: -1, 391: -1, 392: -1, 393: -1, 394: -1, 395: -1,\n",
    "                     396: -1, 397: 74, 398: -1, 399: -1, 400: 75, 401: 76, 402: 77, 403: -1, 404: 78, 405: -1, 406: -1,\n",
    "                     407: 79, 408: -1, 409: -1, 410: -1, 411: 80, 412: -1, 413: -1, 414: -1, 415: -1, 416: 81, 417: 82,\n",
    "                     418: -1, 419: -1, 420: 83, 421: -1, 422: -1, 423: -1, 424: -1, 425: 84, 426: -1, 427: -1, 428: 85,\n",
    "                     429: -1, 430: 86, 431: -1, 432: -1, 433: -1, 434: -1, 435: -1, 436: -1, 437: 87, 438: 88, 439: -1,\n",
    "                     440: -1, 441: -1, 442: -1, 443: -1, 444: -1, 445: 89, 446: -1, 447: -1, 448: -1, 449: -1, 450: -1,\n",
    "                     451: -1, 452: -1, 453: -1, 454: -1, 455: -1, 456: 90, 457: 91, 458: -1, 459: -1, 460: -1, 461: 92,\n",
    "                     462: 93, 463: -1, 464: -1, 465: -1, 466: -1, 467: -1, 468: -1, 469: -1, 470: 94, 471: -1, 472: 95,\n",
    "                     473: -1, 474: -1, 475: -1, 476: -1, 477: -1, 478: -1, 479: -1, 480: -1, 481: -1, 482: -1, 483: 96,\n",
    "                     484: -1, 485: -1, 486: 97, 487: -1, 488: 98, 489: -1, 490: -1, 491: -1, 492: 99, 493: -1, 494: -1,\n",
    "                     495: -1, 496: 100, 497: -1, 498: -1, 499: -1, 500: -1, 501: -1, 502: -1, 503: -1, 504: -1, 505: -1,\n",
    "                     506: -1, 507: -1, 508: -1, 509: -1, 510: -1, 511: -1, 512: -1, 513: -1, 514: 101, 515: -1,\n",
    "                     516: 102, 517: -1, 518: -1, 519: -1, 520: -1, 521: -1, 522: -1, 523: -1, 524: -1, 525: -1, 526: -1,\n",
    "                     527: -1, 528: 103, 529: -1, 530: 104, 531: -1, 532: -1, 533: -1, 534: -1, 535: -1, 536: -1,\n",
    "                     537: -1, 538: -1, 539: 105, 540: -1, 541: -1, 542: 106, 543: 107, 544: -1, 545: -1, 546: -1,\n",
    "                     547: -1, 548: -1, 549: 108, 550: -1, 551: -1, 552: 109, 553: -1, 554: -1, 555: -1, 556: -1,\n",
    "                     557: 110, 558: -1, 559: -1, 560: -1, 561: 111, 562: 112, 563: -1, 564: -1, 565: -1, 566: -1,\n",
    "                     567: -1, 568: -1, 569: 113, 570: -1, 571: -1, 572: 114, 573: 115, 574: -1, 575: 116, 576: -1,\n",
    "                     577: -1, 578: -1, 579: 117, 580: -1, 581: -1, 582: -1, 583: -1, 584: -1, 585: -1, 586: -1, 587: -1,\n",
    "                     588: -1, 589: 118, 590: -1, 591: -1, 592: -1, 593: -1, 594: -1, 595: -1, 596: -1, 597: -1, 598: -1,\n",
    "                     599: -1, 600: -1, 601: -1, 602: -1, 603: -1, 604: -1, 605: -1, 606: 119, 607: 120, 608: -1,\n",
    "                     609: 121, 610: -1, 611: -1, 612: -1, 613: -1, 614: 122, 615: -1, 616: -1, 617: -1, 618: -1,\n",
    "                     619: -1, 620: -1, 621: -1, 622: -1, 623: -1, 624: -1, 625: -1, 626: 123, 627: 124, 628: -1,\n",
    "                     629: -1, 630: -1, 631: -1, 632: -1, 633: -1, 634: -1, 635: -1, 636: -1, 637: -1, 638: -1, 639: -1,\n",
    "                     640: 125, 641: 126, 642: 127, 643: 128, 644: -1, 645: -1, 646: -1, 647: -1, 648: -1, 649: -1,\n",
    "                     650: -1, 651: -1, 652: -1, 653: -1, 654: -1, 655: -1, 656: -1, 657: -1, 658: 129, 659: -1, 660: -1,\n",
    "                     661: -1, 662: -1, 663: -1, 664: -1, 665: -1, 666: -1, 667: -1, 668: 130, 669: -1, 670: -1, 671: -1,\n",
    "                     672: -1, 673: -1, 674: -1, 675: -1, 676: -1, 677: 131, 678: -1, 679: -1, 680: -1, 681: -1,\n",
    "                     682: 132, 683: -1, 684: 133, 685: -1, 686: -1, 687: 134, 688: -1, 689: -1, 690: -1, 691: -1,\n",
    "                     692: -1, 693: -1, 694: -1, 695: -1, 696: -1, 697: -1, 698: -1, 699: -1, 700: -1, 701: 135, 702: -1,\n",
    "                     703: -1, 704: 136, 705: -1, 706: -1, 707: -1, 708: -1, 709: -1, 710: -1, 711: -1, 712: -1, 713: -1,\n",
    "                     714: -1, 715: -1, 716: -1, 717: -1, 718: -1, 719: 137, 720: -1, 721: -1, 722: -1, 723: -1, 724: -1,\n",
    "                     725: -1, 726: -1, 727: -1, 728: -1, 729: -1, 730: -1, 731: -1, 732: -1, 733: -1, 734: -1, 735: -1,\n",
    "                     736: 138, 737: -1, 738: -1, 739: -1, 740: -1, 741: -1, 742: -1, 743: -1, 744: -1, 745: -1,\n",
    "                     746: 139, 747: -1, 748: -1, 749: 140, 750: -1, 751: -1, 752: 141, 753: -1, 754: -1, 755: -1,\n",
    "                     756: -1, 757: -1, 758: 142, 759: -1, 760: -1, 761: -1, 762: -1, 763: 143, 764: -1, 765: 144,\n",
    "                     766: -1, 767: -1, 768: 145, 769: -1, 770: -1, 771: -1, 772: -1, 773: 146, 774: 147, 775: -1,\n",
    "                     776: 148, 777: -1, 778: -1, 779: 149, 780: 150, 781: -1, 782: -1, 783: -1, 784: -1, 785: -1,\n",
    "                     786: 151, 787: -1, 788: -1, 789: -1, 790: -1, 791: -1, 792: 152, 793: -1, 794: -1, 795: -1,\n",
    "                     796: -1, 797: 153, 798: -1, 799: -1, 800: -1, 801: -1, 802: 154, 803: 155, 804: 156, 805: -1,\n",
    "                     806: -1, 807: -1, 808: -1, 809: -1, 810: -1, 811: -1, 812: -1, 813: 157, 814: -1, 815: 158,\n",
    "                     816: -1, 817: -1, 818: -1, 819: -1, 820: 159, 821: -1, 822: -1, 823: 160, 824: -1, 825: -1,\n",
    "                     826: -1, 827: -1, 828: -1, 829: -1, 830: -1, 831: 161, 832: -1, 833: 162, 834: -1, 835: 163,\n",
    "                     836: -1, 837: -1, 838: -1, 839: 164, 840: -1, 841: -1, 842: -1, 843: -1, 844: -1, 845: 165,\n",
    "                     846: -1, 847: 166, 848: -1, 849: -1, 850: 167, 851: -1, 852: -1, 853: -1, 854: -1, 855: -1,\n",
    "                     856: -1, 857: -1, 858: -1, 859: 168, 860: -1, 861: -1, 862: 169, 863: -1, 864: -1, 865: -1,\n",
    "                     866: -1, 867: -1, 868: -1, 869: -1, 870: 170, 871: -1, 872: -1, 873: -1, 874: -1, 875: -1, 876: -1,\n",
    "                     877: -1, 878: -1, 879: 171, 880: 172, 881: -1, 882: -1, 883: -1, 884: -1, 885: -1, 886: -1,\n",
    "                     887: -1, 888: 173, 889: -1, 890: 174, 891: -1, 892: -1, 893: -1, 894: -1, 895: -1, 896: -1,\n",
    "                     897: 175, 898: -1, 899: -1, 900: 176, 901: -1, 902: -1, 903: -1, 904: -1, 905: -1, 906: -1,\n",
    "                     907: 177, 908: -1, 909: -1, 910: -1, 911: -1, 912: -1, 913: 178, 914: -1, 915: -1, 916: -1,\n",
    "                     917: -1, 918: -1, 919: -1, 920: -1, 921: -1, 922: -1, 923: -1, 924: 179, 925: -1, 926: -1, 927: -1,\n",
    "                     928: -1, 929: -1, 930: -1, 931: -1, 932: 180, 933: 181, 934: 182, 935: -1, 936: -1, 937: 183,\n",
    "                     938: -1, 939: -1, 940: -1, 941: -1, 942: -1, 943: 184, 944: -1, 945: 185, 946: -1, 947: 186,\n",
    "                     948: -1, 949: -1, 950: -1, 951: 187, 952: -1, 953: -1, 954: 188, 955: -1, 956: 189, 957: 190,\n",
    "                     958: -1, 959: 191, 960: -1, 961: -1, 962: -1, 963: -1, 964: -1, 965: -1, 966: -1, 967: -1, 968: -1,\n",
    "                     969: -1, 970: -1, 971: 192, 972: 193, 973: -1, 974: -1, 975: -1, 976: -1, 977: -1, 978: -1,\n",
    "                     979: -1, 980: 194, 981: 195, 982: -1, 983: -1, 984: 196, 985: -1, 986: 197, 987: 198, 988: 199,\n",
    "                     989: -1, 990: -1, 991: -1, 992: -1, 993: -1, 994: -1, 995: -1, 996: -1, 997: -1, 998: -1, 999: -1}\n",
    "indices_in_1k = [k for k in thousand_k_to_200 if thousand_k_to_200[k] != -1]\n",
    "\n",
    "if local_env:\n",
    "    imagenet_a_directory = 'datasets/imagenet-a'\n",
    "    imagenet_a = torchvision.datasets.ImageFolder(root=imagenet_a_directory, transform=resnet_preprocess)\n",
    "else:\n",
    "    imagenet_a_directory = \"OfficeHomeDataset_10072016/Real World\"\n",
    "    imagenet_a = S3ImageFolder(root=imagenet_a_directory, transform=resnet_preprocess)"
   ],
   "metadata": {
    "ExecuteTime": {
     "end_time": "2024-07-15T18:55:39.594069Z",
     "start_time": "2024-07-15T18:55:39.450164Z"
    }
   },
   "outputs": [],
   "execution_count": 29
  },
  {
   "cell_type": "code",
   "source": [
    "import numpy as np\n",
    "import torch.nn as nn\n",
    "\n",
    "\n",
    "class MarginalEntropy(nn.Module):\n",
    "    def __init__(self):\n",
    "        super().__init__()\n",
    "\n",
    "    def forward(self, outputs):\n",
    "        # compute mean entropy\n",
    "        logits = outputs - outputs.logsumexp(dim=-1, keepdim=True)\n",
    "        avg_logits = logits.logsumexp(dim=0) - np.log(logits.shape[0])\n",
    "        min_real = torch.finfo(avg_logits.dtype).min\n",
    "        avg_logits = torch.clamp(avg_logits, min=min_real)\n",
    "        mean_entropy = -(avg_logits * torch.exp(avg_logits)).sum(dim=-1), avg_logits\n",
    "        return mean_entropy\n",
    "\n",
    "\n",
    "loss_fn = MarginalEntropy()"
   ],
   "metadata": {
    "collapsed": false,
    "ExecuteTime": {
     "end_time": "2024-07-15T18:55:40.396313Z",
     "start_time": "2024-07-15T18:55:40.380219Z"
    }
   },
   "outputs": [],
   "execution_count": 30
  },
  {
   "metadata": {
    "ExecuteTime": {
     "end_time": "2024-07-15T18:55:40.746928Z",
     "start_time": "2024-07-15T18:55:40.715397Z"
    }
   },
   "cell_type": "code",
   "source": [
    "# augmix from original paper\n",
    "\n",
    "def augmix(x_orig):\n",
    "    x_orig = preaugment(x_orig)\n",
    "    x_orig = torchvision.transforms.ToPILImage()(x_orig)\n",
    "    x_processed = preprocess(x_orig)\n",
    "    w = np.float32(np.random.dirichlet([1.0, 1.0, 1.0]))\n",
    "    m = np.float32(np.random.beta(1.0, 1.0))\n",
    "\n",
    "    mix = torch.zeros_like(x_processed)\n",
    "    for i in range(3):\n",
    "        x_aug = x_orig.copy()\n",
    "        for _ in range(np.random.randint(1, 4)):\n",
    "            x_aug = np.random.choice(augmentations)(x_aug)\n",
    "        mix += w[i] * preprocess(x_aug)\n",
    "    mix = m * x_processed + (1 - m) * mix\n",
    "    return mix\n",
    "\n",
    "\n",
    "def autocontrast(pil_img, level=None):\n",
    "    return ImageOps.autocontrast(pil_img)\n",
    "\n",
    "\n",
    "def equalize(pil_img, level=None):\n",
    "    return ImageOps.equalize(pil_img)\n",
    "\n",
    "\n",
    "def rotate(pil_img, level):\n",
    "    degrees = int_parameter(rand_lvl(level), 30)\n",
    "    if np.random.uniform() > 0.5:\n",
    "        degrees = -degrees\n",
    "    return pil_img.rotate(degrees, resample=Image.BILINEAR, fillcolor=128)\n",
    "\n",
    "\n",
    "def solarize(pil_img, level):\n",
    "    level = int_parameter(rand_lvl(level), 256)\n",
    "    return ImageOps.solarize(pil_img, 256 - level)\n",
    "\n",
    "\n",
    "def shear_x(pil_img, level):\n",
    "    level = float_parameter(rand_lvl(level), 0.3)\n",
    "    if np.random.uniform() > 0.5:\n",
    "        level = -level\n",
    "    return pil_img.transform((224, 224), Image.AFFINE, (1, level, 0, 0, 1, 0), resample=Image.BILINEAR, fillcolor=128)\n",
    "\n",
    "\n",
    "def shear_y(pil_img, level):\n",
    "    level = float_parameter(rand_lvl(level), 0.3)\n",
    "    if np.random.uniform() > 0.5:\n",
    "        level = -level\n",
    "    return pil_img.transform((224, 224), Image.AFFINE, (1, 0, 0, level, 1, 0), resample=Image.BILINEAR, fillcolor=128)\n",
    "\n",
    "\n",
    "def translate_x(pil_img, level):\n",
    "    level = int_parameter(rand_lvl(level), 224 / 3)\n",
    "    if np.random.random() > 0.5:\n",
    "        level = -level\n",
    "    return pil_img.transform((224, 224), Image.AFFINE, (1, 0, level, 0, 1, 0), resample=Image.BILINEAR, fillcolor=128)\n",
    "\n",
    "\n",
    "def translate_y(pil_img, level):\n",
    "    level = int_parameter(rand_lvl(level), 224 / 3)\n",
    "    if np.random.random() > 0.5:\n",
    "        level = -level\n",
    "    return pil_img.transform((224, 224), Image.AFFINE, (1, 0, 0, 0, 1, level), resample=Image.BILINEAR, fillcolor=128)\n",
    "\n",
    "\n",
    "def posterize(pil_img, level):\n",
    "    level = int_parameter(rand_lvl(level), 4)\n",
    "    return ImageOps.posterize(pil_img, 4 - level)\n",
    "\n",
    "\n",
    "def int_parameter(level, maxval):\n",
    "    \"\"\"Helper function to scale `val` between 0 and maxval .\n",
    "    Args:\n",
    "    level: Level of the operation that will be between [0, `PARAMETER_MAX`].\n",
    "    maxval: Maximum value that the operation can have. This will be scaled\n",
    "      to level/PARAMETER_MAX.\n",
    "    Returns:\n",
    "    An int that results from scaling `maxval` according to `level`.\n",
    "    \"\"\"\n",
    "    return int(level * maxval / 10)\n",
    "\n",
    "\n",
    "def float_parameter(level, maxval):\n",
    "    \"\"\"Helper function to scale `val` between 0 and maxval .\n",
    "    Args:\n",
    "    level: Level of the operation that will be between [0, `PARAMETER_MAX`].\n",
    "    maxval: Maximum value that the operation can have. This will be scaled\n",
    "      to level/PARAMETER_MAX.\n",
    "    Returns:\n",
    "    A float that results from scaling `maxval` according to `level`.\n",
    "    \"\"\"\n",
    "    return float(level) * maxval / 10.\n",
    "\n",
    "\n",
    "def rand_lvl(n):\n",
    "    return np.random.uniform(low=0.1, high=n)\n",
    "\n",
    "\n",
    "augmentations = [\n",
    "    autocontrast,\n",
    "    equalize,\n",
    "    lambda x: rotate(x, 1),\n",
    "    lambda x: solarize(x, 1),\n",
    "    lambda x: shear_x(x, 1),\n",
    "    lambda x: shear_y(x, 1),\n",
    "    lambda x: translate_x(x, 1),\n",
    "    lambda x: translate_y(x, 1),\n",
    "    lambda x: posterize(x, 1),\n",
    "]\n",
    "\n",
    "preprocess = torchvision.transforms.Compose([\n",
    "    torchvision.transforms.ToTensor(),\n",
    "    normalize\n",
    "])\n",
    "preaugment = torchvision.transforms.Compose([\n",
    "    torchvision.transforms.RandomResizedCrop(224),\n",
    "    torchvision.transforms.RandomHorizontalFlip(),\n",
    "])"
   ],
   "outputs": [],
   "execution_count": 31
  },
  {
   "cell_type": "code",
   "source": [
    "def memo_tta(pretrained_model, sample, epochs_for_adaptation, prior_strength=16):\n",
    "    learning_rate = 0.00001\n",
    "    optimizer = torch.optim.SGD(pretrained_model.parameters(), lr=learning_rate)\n",
    "\n",
    "    augmented_samples = []\n",
    "    for _ in range(64):\n",
    "        augmented_sample = augmix(sample)\n",
    "        augmented_samples.append(augmented_sample)\n",
    "    augmented_samples = torch.stack(augmented_samples)\n",
    "\n",
    "    pretrained_model.eval()\n",
    "\n",
    "    nn.BatchNorm2d.prior = float(prior_strength) / float(prior_strength + 1)\n",
    "\n",
    "    for epoch in range(epochs_for_adaptation):\n",
    "        output_distributions = pretrained_model(augmented_samples)\n",
    "        output_distributions = output_distributions[:, indices_in_1k]\n",
    "\n",
    "        loss, _ = loss_fn(output_distributions)\n",
    "        loss.backward()\n",
    "        optimizer.step()\n",
    "        optimizer.zero_grad()\n",
    "\n",
    "    nn.BatchNorm2d.prior = 1\n",
    "    return pretrained_model"
   ],
   "metadata": {
    "collapsed": false,
    "ExecuteTime": {
     "end_time": "2024-07-15T18:55:42.606229Z",
     "start_time": "2024-07-15T18:55:42.590699Z"
    }
   },
   "outputs": [],
   "execution_count": 32
  },
  {
   "metadata": {
    "ExecuteTime": {
     "end_time": "2024-07-15T18:55:44.016734Z",
     "start_time": "2024-07-15T18:55:44.001224Z"
    }
   },
   "cell_type": "code",
   "source": [
    "def test_single(adapted_model, sample, prior_strength=16):\n",
    "    adapted_model.eval()\n",
    "\n",
    "    if prior_strength != -1:\n",
    "        nn.BatchNorm2d.prior = float(prior_strength) / float(prior_strength + 1)\n",
    "\n",
    "    sample = sample.unsqueeze(0)  # create a mini-batch as expected by the resnet model\n",
    "\n",
    "    with torch.no_grad():\n",
    "        outputs = adapted_model(sample.cuda())\n",
    "        outputs = outputs[:, indices_in_1k]\n",
    "        _, predicted = outputs.max(1)\n",
    "    prediction = predicted.item()\n",
    "\n",
    "    if prior_strength != -1:\n",
    "        nn.BatchNorm2d.prior = 1\n",
    "    return prediction"
   ],
   "outputs": [],
   "execution_count": 33
  },
  {
   "cell_type": "code",
   "source": [
    "fresh_pretrained_model = torch.hub.load('pytorch/vision:v0.10.0', 'resnet18', pretrained=True)\n",
    "prior_strength = 16\n",
    "\n",
    "\n",
    "# https://github.com/bethgelab/robustness/blob/main/robusta/batchnorm/bn.py#L175\n",
    "def modified_bn_forward(self, input):\n",
    "    est_mean = torch.zeros(self.running_mean.shape, device=self.running_mean.device)\n",
    "    est_var = torch.ones(self.running_var.shape, device=self.running_var.device)\n",
    "    nn.functional.batch_norm(input, est_mean, est_var, None, None, True, 1.0, self.eps)\n",
    "    running_mean = self.prior * self.running_mean + (1 - self.prior) * est_mean\n",
    "    running_var = self.prior * self.running_var + (1 - self.prior) * est_var\n",
    "    return nn.functional.batch_norm(input, running_mean, running_var, self.weight, self.bias, False, 0, self.eps)\n",
    "\n",
    "\n",
    "def get_fresh_pretrained_model(prior_strength=16):\n",
    "    pretrained_model = fresh_pretrained_model\n",
    "    pretrained_model = pretrained_model.cuda()\n",
    "    # in case multiple GPUs are available, this will try to utilize by Data Parallelism\n",
    "    pretrained_model = nn.DataParallel(pretrained_model)\n",
    "\n",
    "    if prior_strength != -1:\n",
    "        nn.BatchNorm2d.prior = float(prior_strength) / float(prior_strength + 1)\n",
    "        nn.BatchNorm2d.forward = modified_bn_forward\n",
    "\n",
    "    return pretrained_model"
   ],
   "metadata": {
    "collapsed": false,
    "ExecuteTime": {
     "end_time": "2024-07-15T18:55:44.667474Z",
     "start_time": "2024-07-15T18:55:44.375917Z"
    }
   },
   "outputs": [
    {
     "name": "stderr",
     "output_type": "stream",
     "text": [
      "Using cache found in C:\\Users\\pooya/.cache\\torch\\hub\\pytorch_vision_v0.10.0\n",
      "C:\\Users\\pooya\\miniconda3\\envs\\Memo_DL2024\\lib\\site-packages\\torchvision\\models\\_utils.py:208: UserWarning: The parameter 'pretrained' is deprecated since 0.13 and may be removed in the future, please use 'weights' instead.\n",
      "  warnings.warn(\n",
      "C:\\Users\\pooya\\miniconda3\\envs\\Memo_DL2024\\lib\\site-packages\\torchvision\\models\\_utils.py:223: UserWarning: Arguments other than a weight enum or `None` for 'weights' are deprecated since 0.13 and may be removed in the future. The current behavior is equivalent to passing `weights=ResNet18_Weights.IMAGENET1K_V1`. You can also use `weights=ResNet18_Weights.DEFAULT` to get the most up-to-date weights.\n",
      "  warnings.warn(msg)\n"
     ]
    }
   ],
   "execution_count": 34
  },
  {
   "metadata": {
    "ExecuteTime": {
     "end_time": "2024-07-15T18:56:46.061722Z",
     "start_time": "2024-07-15T18:56:46.030454Z"
    }
   },
   "cell_type": "code",
   "source": [
    "def experiment_adaptation_on_dataset(adaptation_method, epochs_for_adaptation, prior_strength):\n",
    "    correct_predictions = 0\n",
    "    i=0\n",
    "    for sample in imagenet_a:\n",
    "        input_image = sample[0]\n",
    "        # todo, are the labels in the same order as the output classes from the model?\n",
    "        input_label = sample[1]\n",
    "\n",
    "        pretrained_model = get_fresh_pretrained_model(prior_strength)\n",
    "        adapted_model = adaptation_method(pretrained_model, input_image, epochs_for_adaptation, prior_strength)\n",
    "\n",
    "        # inference phase\n",
    "        prediction = test_single(adapted_model, input_image, prior_strength)\n",
    "        correctness = 1 if prediction == input_label else 0\n",
    "        correct_predictions += correctness\n",
    "        \n",
    "        i+=1\n",
    "        if i==10:\n",
    "            break\n",
    "    top1_accuracy = correct_predictions / len(imagenet_a)\n",
    "\n",
    "    return top1_accuracy"
   ],
   "outputs": [],
   "execution_count": 36
  },
  {
   "metadata": {
    "ExecuteTime": {
     "end_time": "2024-07-15T18:56:49.599569Z",
     "start_time": "2024-07-15T18:56:47.700279Z"
    }
   },
   "cell_type": "code",
   "source": [
    "# test pre-trained model without any adaptation\n",
    "\n",
    "def no_adaptation(pretrained_model, sample, epochs_for_adaptation, prior_strength):\n",
    "    return pretrained_model\n",
    "\n",
    "\n",
    "top1_accuracy = experiment_adaptation_on_dataset(adaptation_method=no_adaptation, epochs_for_adaptation=0, prior_strength=-1)\n",
    "\n",
    "print(f\"top-1 accuracy for pretrained model: {top1_accuracy}\")"
   ],
   "outputs": [
    {
     "name": "stdout",
     "output_type": "stream",
     "text": [
      "top-1 accuracy for pretrained model: 0.0\n"
     ]
    }
   ],
   "execution_count": 37
  },
  {
   "metadata": {
    "ExecuteTime": {
     "end_time": "2024-07-15T18:57:02.991884Z",
     "start_time": "2024-07-15T18:56:53.395271Z"
    }
   },
   "cell_type": "code",
   "source": [
    "# implementation of: test time adaptation via MEMO\n",
    "\n",
    "# \"only one gradient step per test point\" as per paper\n",
    "top1_accuracy = experiment_adaptation_on_dataset(adaptation_method=memo_tta, epochs_for_adaptation=1, prior_strength=prior_strength)\n",
    "\n",
    "print(f\"top-1 accuracy for memo base implementation: {top1_accuracy}\")"
   ],
   "outputs": [
    {
     "name": "stdout",
     "output_type": "stream",
     "text": [
      "top-1 accuracy for memo base implementation: 0.0\n"
     ]
    }
   ],
   "execution_count": 38
  },
  {
   "metadata": {},
   "cell_type": "markdown",
   "source": [
    "### Augmentation function: Random Patch Hiding\n",
    "idea from this paper: https://arxiv.org/pdf/1704.04232 and https://openreview.net/pdf?id=SHMi1b7sjXk#page=6.63"
   ]
  },
  {
   "metadata": {
    "ExecuteTime": {
     "end_time": "2024-07-15T18:57:05.684644Z",
     "start_time": "2024-07-15T18:57:05.286682Z"
    }
   },
   "cell_type": "code",
   "source": [
    "import random\n",
    "\n",
    "\n",
    "def random_hide_patch(img):\n",
    "    # get width and height of the image\n",
    "    _, H, W = img.shape\n",
    "\n",
    "    patch_size = int(min(H, W) * 0.1)  # Example: 10% of the shorter side of the image\n",
    "\n",
    "    # Create a copy of the image to avoid modifying the original image\n",
    "    masked_img = img.clone()\n",
    "\n",
    "    hide_prob = 0.3\n",
    "\n",
    "    for x in range(0, W, patch_size):\n",
    "        for y in range(0, H, patch_size):\n",
    "            x_end = min(W, x + patch_size)\n",
    "            y_end = min(H, y + patch_size)\n",
    "            choose_to_hide = random.uniform(0, 1)\n",
    "            if choose_to_hide <= hide_prob:\n",
    "                masked_img[:, y:y_end, x:x_end] = 0\n",
    "\n",
    "    return masked_img\n",
    "\n",
    "\n",
    "random_patched_img = []\n",
    "for i in range(5):\n",
    "    random_patched_img.append(random_hide_patch(imagenet_a[0][0]))\n",
    "\n",
    "plot(random_patched_img)"
   ],
   "outputs": [
    {
     "data": {
      "text/plain": [
       "<Figure size 640x480 with 5 Axes>"
      ],
      "image/png": "[encoded data removed]"
     },
     "metadata": {},
     "output_type": "display_data"
    }
   ],
   "execution_count": 39
  },
  {
   "metadata": {
    "ExecuteTime": {
     "end_time": "2024-07-15T19:14:11.354694Z",
     "start_time": "2024-07-15T19:14:11.323018Z"
    }
   },
   "cell_type": "code",
   "source": [
    "from torch.distributions import Categorical\n",
    "\n",
    "\n",
    "def tta_with_random_hided_patch(pretrained_model, sample, epochs_for_adaptation, prior_strength):\n",
    "    learning_rate = 0.00001\n",
    "    optimizer = torch.optim.SGD(pretrained_model.parameters(), lr=learning_rate)\n",
    "\n",
    "    augmented_samples = []\n",
    "    for _ in range(32):\n",
    "        augmented_sample = random_hide_patch(sample)\n",
    "        augmented_samples.append(augmented_sample)\n",
    "    augmented_samples = torch.stack(augmented_samples)\n",
    "\n",
    "    pretrained_model.eval()\n",
    "\n",
    "    # augmentation selection\n",
    "    with torch.no_grad():\n",
    "        output_distributions = pretrained_model(augmented_samples)\n",
    "        output_distributions = output_distributions[:, indices_in_1k]\n",
    "        output_distributions = torch.softmax(output_distributions, dim=-1)\n",
    "    \n",
    "        output_entropies = []\n",
    "        for output_distribution in output_distributions:\n",
    "            output_entropy = Categorical(probs=output_distribution).entropy()\n",
    "            output_entropies.append(output_entropy)\n",
    "        output_entropies = torch.stack(output_entropies).cpu()\n",
    "        \n",
    "        first_quartile = np.percentile(output_entropies, 25)\n",
    "        mean = output_entropies.mean().item()\n",
    "        augmentation_selection_threshold = min(first_quartile, mean)\n",
    "    \n",
    "        augmentation_idx_to_keep = []\n",
    "        for idx, output_entropy in enumerate(output_entropies):\n",
    "            if output_entropy >= augmentation_selection_threshold:\n",
    "                augmentation_idx_to_keep.append(idx)\n",
    "    \n",
    "        augmented_samples = augmented_samples[augmentation_idx_to_keep]\n",
    "\n",
    "    # adaptation phase\n",
    "    for epoch in range(epochs_for_adaptation):\n",
    "        output_distributions = pretrained_model(augmented_samples)\n",
    "        output_distributions = output_distributions[:, indices_in_1k]\n",
    "\n",
    "        loss, _ = loss_fn(output_distributions)\n",
    "        loss.backward()\n",
    "        optimizer.step()\n",
    "        optimizer.zero_grad()\n",
    "\n",
    "    return pretrained_model"
   ],
   "outputs": [],
   "execution_count": 54
  },
  {
   "metadata": {
    "ExecuteTime": {
     "end_time": "2024-07-15T19:14:16.914095Z",
     "start_time": "2024-07-15T19:14:12.310064Z"
    }
   },
   "cell_type": "code",
   "source": [
    "top1_accuracy = experiment_adaptation_on_dataset(adaptation_method=tta_with_random_hided_patch, epochs_for_adaptation=3, prior_strength=-1)\n",
    "\n",
    "print(f\"top-1 accuracy for Random Patch Hiding: {top1_accuracy}\")"
   ],
   "outputs": [
    {
     "name": "stdout",
     "output_type": "stream",
     "text": [
      "tensor([3.1134, 2.3108, 3.4300, 2.9754, 3.0546, 3.3859, 2.5549, 3.1664, 2.2337,\n",
      "        3.0686, 1.4222, 3.3247, 3.5514, 3.2743, 3.6280, 0.7947, 3.5397, 2.4356,\n",
      "        3.4394, 3.0981, 3.6584, 2.9506, 3.5356, 3.4413, 2.9550, 2.8214, 3.6239,\n",
      "        2.9481, 2.8778, 3.5050, 3.8124, 2.8231])\n",
      "tensor([2.1451, 2.7162, 1.7724, 3.1848, 2.2101, 2.8231, 3.1391, 2.8319, 3.2262,\n",
      "        3.1179, 3.2920, 2.9376, 2.4646, 3.4583, 3.5097, 3.1620, 1.7905, 2.4064,\n",
      "        2.7471, 2.7416, 2.7978, 2.9253, 2.5827, 3.2668, 2.2223, 3.2679, 2.6530,\n",
      "        3.3819, 3.4049, 3.5356, 2.5168, 2.7326])\n",
      "tensor([0.3432, 2.3254, 2.8653, 2.1594, 0.7735, 1.5535, 1.7800, 1.4551, 1.6841,\n",
      "        1.8667, 1.4315, 1.6924, 2.5163, 1.7094, 1.1180, 2.8159, 1.9342, 1.4761,\n",
      "        1.4172, 2.8688, 2.1433, 2.2384, 1.1796, 1.8869, 1.6320, 1.2627, 0.8094,\n",
      "        1.4071, 1.7238, 1.3039, 2.6196, 1.9056])\n",
      "tensor([3.4711, 2.6058, 3.4688, 3.1565, 3.6292, 3.8317, 3.4467, 3.6947, 2.9329,\n",
      "        3.0910, 3.2580, 3.9158, 3.2905, 3.7558, 3.1732, 3.6124, 2.9937, 3.3028,\n",
      "        2.7248, 3.6409, 3.3806, 3.6863, 3.7954, 3.3638, 2.6425, 3.5129, 3.5492,\n",
      "        2.6659, 3.2050, 3.3071, 3.5671, 2.6491])\n",
      "tensor([0.6134, 0.9593, 0.5569, 0.0964, 0.3310, 0.6603, 0.7708, 0.3763, 0.1395,\n",
      "        0.4455, 1.0977, 0.2450, 0.2049, 1.1887, 0.1048, 0.1422, 0.7114, 0.3438,\n",
      "        0.0171, 1.5155, 1.2946, 0.9621, 0.3530, 0.2866, 0.1082, 0.3926, 0.1798,\n",
      "        1.6169, 1.3134, 1.6259, 0.1521, 0.4191])\n",
      "tensor([3.1094, 3.4925, 3.3062, 3.5052, 1.8059, 3.4844, 2.9077, 3.6324, 2.9655,\n",
      "        3.0122, 2.5457, 3.6153, 2.5506, 2.3007, 2.9369, 3.3213, 3.3641, 2.5866,\n",
      "        3.3045, 3.4790, 3.3357, 2.5564, 3.5938, 3.5760, 3.9879, 2.9064, 3.2080,\n",
      "        3.3532, 3.8832, 2.1155, 1.8861, 0.7938])\n",
      "tensor([1.4113, 0.4512, 1.0654, 0.5030, 1.4293, 0.6556, 0.9265, 1.0610, 0.4297,\n",
      "        0.2342, 0.2475, 0.7022, 1.2055, 0.6934, 0.4074, 1.1127, 1.2237, 1.0705,\n",
      "        1.0151, 0.8583, 0.5209, 1.4455, 0.6676, 0.2529, 0.5693, 1.5000, 0.6067,\n",
      "        1.6120, 0.1232, 1.1971, 0.1945, 0.3847])\n",
      "tensor([3.4814, 1.8992, 2.3940, 3.5172, 2.3781, 2.7510, 1.9246, 3.0030, 2.6066,\n",
      "        2.9195, 1.8213, 3.1943, 1.6775, 2.8038, 2.3839, 2.0267, 2.9784, 1.6782,\n",
      "        1.8329, 2.5830, 3.2535, 1.4642, 1.4483, 1.1724, 2.5118, 3.3109, 1.8263,\n",
      "        3.4227, 2.8022, 2.8946, 3.1316, 1.0071])\n",
      "tensor([0.5696, 0.1442, 1.4636, 0.3591, 0.3200, 1.6171, 0.8687, 1.3856, 0.7791,\n",
      "        0.2597, 1.4363, 1.6984, 1.7073, 0.2994, 0.6818, 1.8740, 1.0693, 0.7407,\n",
      "        0.2680, 0.8095, 1.6895, 0.2902, 0.2747, 1.9274, 1.3539, 0.2937, 0.5611,\n",
      "        0.6955, 0.1083, 0.4314, 0.5161, 1.5662])\n",
      "tensor([2.6587, 3.5036, 1.5417, 2.9535, 2.2394, 2.1551, 3.1282, 2.2656, 1.8568,\n",
      "        2.8372, 2.3549, 3.0663, 2.8467, 0.9305, 3.3035, 2.9896, 2.0631, 0.7649,\n",
      "        2.6374, 2.7391, 2.2970, 2.9214, 2.3694, 2.3953, 1.9366, 2.0724, 2.3780,\n",
      "        1.8042, 3.6010, 2.4833, 1.3563, 3.1604])\n",
      "top-1 accuracy for Random Patch Hiding: 0.0\n"
     ]
    }
   ],
   "execution_count": 55
  },
  {
   "metadata": {},
   "cell_type": "code",
   "outputs": [],
   "execution_count": null,
   "source": ""
  }
 ],
 "metadata": {
  "kernelspec": {
   "display_name": "DL24",
   "language": "python",
   "name": "python3"
  },
  "language_info": {
   "codemirror_mode": {
    "name": "ipython",
    "version": 3
   },
   "file_extension": ".py",
   "mimetype": "text/x-python",
   "name": "python",
   "nbconvert_exporter": "python",
   "pygments_lexer": "ipython3",
   "version": "3.11.8"
  }
 },
 "nbformat": 4,
 "nbformat_minor": 2
}
